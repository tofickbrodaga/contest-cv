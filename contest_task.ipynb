{
 "cells": [
  {
   "cell_type": "code",
   "execution_count": 1,
   "metadata": {},
   "outputs": [
    {
     "name": "stdout",
     "output_type": "stream",
     "text": [
      "0.3657042980194092\n"
     ]
    }
   ],
   "source": [
    "import torch\n",
    "from torchvision import transforms\n",
    "from transformers import AutoModelForImageClassification, AutoFeatureExtractor, AutoFeatureExtractor, AutoTokenizer, AutoConfig\n",
    "from PIL import Image\n",
    "from io import BytesIO\n",
    "\n",
    "config_path = 'config.json'\n",
    "model_checkpoint = 'model/pytorch_model.bin'\n",
    "\n",
    "config = AutoConfig.from_pretrained(config_path)\n",
    "model = AutoModelForImageClassification.from_pretrained(model_checkpoint, config=config)\n",
    "model.load_state_dict(torch.load(model_checkpoint))\n",
    "model.eval()\n",
    "\n",
    "def preprocess_image(image_path):\n",
    "    transform = transforms.Compose([transforms.Resize((224,224)),\n",
    "                            transforms.ToTensor(),\n",
    "                            transforms.Normalize(mean=[0.485, 0.456, 0.406],\n",
    "                            std=[0.229,0.224, 0.255])])\n",
    "    image = Image.open(image_path)\n",
    "    image = transform(image).unsqueeze(0)\n",
    "    return image\n",
    "\n",
    "image_path = 'test_data/cat001.jpg'\n",
    "image = preprocess_image(image_path)\n",
    "with torch.no_grad():\n",
    "    output = model(image)\n",
    "\n",
    "probability = torch.sigmoid(output.logits[0][7]).item()\n",
    "\n",
    "print(probability)"
   ]
  },
  {
   "cell_type": "markdown",
   "metadata": {},
   "source": [
    "Здесь были попытки разобраться, надо решить"
   ]
  },
  {
   "cell_type": "code",
   "execution_count": 26,
   "metadata": {},
   "outputs": [
    {
     "name": "stdout",
     "output_type": "stream",
     "text": [
      "Image 1: Probability = 0.4530305564403534\n"
     ]
    }
   ],
   "source": [
    "import os\n",
    "import torch\n",
    "from torchvision import transforms\n",
    "from transformers import AutoModelForImageClassification, AutoConfig\n",
    "from PIL import Image\n",
    "\n",
    "\n",
    "# Укажите путь к проверочному датасету\n",
    "test_data_path = 'test_data'\n",
    "\n",
    "# Пути к модели и конфигурации\n",
    "config_path = 'config.json'\n",
    "model_checkpoint = 'model/pytorch_model.bin'\n",
    "\n",
    "# Загрузка модели и конфигурации\n",
    "config = AutoConfig.from_pretrained(config_path)\n",
    "model = AutoModelForImageClassification.from_pretrained(model_checkpoint, config=config)\n",
    "model.eval()\n",
    "\n",
    "# Функция для предобработки изображения\n",
    "def preprocess_image(image_path):\n",
    "    transform = transforms.Compose([\n",
    "        transforms.Resize((224, 224)),\n",
    "        transforms.ToTensor(),\n",
    "        transforms.Normalize(mean=[0.485, 0.456, 0.406], std=[0.229, 0.224, 0.255])\n",
    "    ])\n",
    "    image = Image.open(image_path)\n",
    "    image = transform(image).unsqueeze(0)\n",
    "    return image\n",
    "\n",
    "# Функция для классификации изображения и вычисления вероятности\n",
    "def classify_image(image_path, model):\n",
    "    image = preprocess_image(image_path)\n",
    "    with torch.no_grad():\n",
    "        output = model(image)\n",
    "    probability = torch.sigmoid(output.logits[0][7]).item()\n",
    "    return probability\n",
    "\n",
    "test_data_directory = 'test_data'\n",
    "probabilities = []\n",
    "\n",
    "\n",
    "for filename in os.listdir(test_data_directory):\n",
    "    if filename.endswith('.jpg'):\n",
    "        image_path = os.path.join(test_data_directory, filename)\n",
    "        probability = classify_image(image_path, model)\n",
    "        probabilities.append(probability)\n",
    "\n",
    "# Вывод вероятностей для каждого изображения\n",
    "for i, probability in enumerate(probabilities):\n",
    "    print(f\"Image {i + 1}: Probability = {probability}\")\n"
   ]
  },
  {
   "cell_type": "code",
   "execution_count": 3,
   "metadata": {},
   "outputs": [
    {
     "name": "stdout",
     "output_type": "stream",
     "text": [
      "Accuracy: 0.8198198198198198\n"
     ]
    }
   ],
   "source": [
    "import os\n",
    "import torch\n",
    "from torchvision import transforms\n",
    "from transformers import AutoModelForImageClassification, AutoConfig\n",
    "from PIL import Image\n",
    "import zipfile\n",
    "\n",
    "# Укажите путь к проверочному датасету\n",
    "test_data_path = 'test_data-2'\n",
    "\n",
    "# Пути к модели и конфигурации\n",
    "config_path = 'config.json'\n",
    "model_checkpoint = 'model/pytorch_model.bin'\n",
    "\n",
    "# Загрузка модели и конфигурации\n",
    "config = AutoConfig.from_pretrained(config_path)\n",
    "model = AutoModelForImageClassification.from_pretrained(model_checkpoint, config=config)\n",
    "model.eval()\n",
    "\n",
    "\n",
    "def preprocess_image(image_path):\n",
    "    transform = transforms.Compose([\n",
    "        transforms.Resize((224, 224)),\n",
    "        transforms.ToTensor(),\n",
    "        transforms.Normalize(mean=[0.485, 0.456, 0.406], std=[0.229, 0.224, 0.255])\n",
    "    ])\n",
    "    image = Image.open(image_path)\n",
    "    image = transform(image).unsqueeze(0)\n",
    "    return image\n",
    "\n",
    "def classify_image(image_path, model):\n",
    "    image = preprocess_image(image_path)\n",
    "    with torch.no_grad():\n",
    "        output = model(image)\n",
    "     # тут надо по классам разбить, но их много, а тут всего 1. в общем все непонятно как я написала\n",
    "    probability = torch.sigmoid(output.logits[0][1]).item()\n",
    "    return probability\n",
    "\n",
    "\n",
    "test_data_directory = 'test_data'\n",
    "\n",
    "\n",
    "actual_labels = [] \n",
    "predicted_probabilities = []\n",
    "\n",
    "for filename in os.listdir(test_data_directory):\n",
    "    if filename.endswith('.jpg'):\n",
    "        image_path = os.path.join(test_data_directory, filename)\n",
    "        \n",
    "        if '_' in filename and '.' in filename:\n",
    "            class_label = int(filename.split('_')[1].split('.')[0])\n",
    "        else:\n",
    "            class_label = 1 if filename.startswith('class_1') else 0\n",
    "        \n",
    "        probability = classify_image(image_path, model)\n",
    "        \n",
    "        \n",
    "        actual_labels.append(class_label)\n",
    "        predicted_probabilities.append(probability)\n",
    "\n",
    "\n",
    "correct_predictions = 0\n",
    "total_images = len(actual_labels)\n",
    "\n",
    "for actual, predicted in zip(actual_labels, predicted_probabilities):\n",
    "    if (actual == 1 and predicted >= 0.5) or (actual == 0 and predicted < 0.5):\n",
    "        correct_predictions += 1\n",
    "\n",
    "accuracy = correct_predictions / total_images\n",
    "print(\"Accuracy:\", accuracy)\n"
   ]
  }
 ],
 "metadata": {
  "kernelspec": {
   "display_name": "Python 3",
   "language": "python",
   "name": "python3"
  },
  "language_info": {
   "codemirror_mode": {
    "name": "ipython",
    "version": 3
   },
   "file_extension": ".py",
   "mimetype": "text/x-python",
   "name": "python",
   "nbconvert_exporter": "python",
   "pygments_lexer": "ipython3",
   "version": "3.11.5"
  },
  "orig_nbformat": 4
 },
 "nbformat": 4,
 "nbformat_minor": 2
}
